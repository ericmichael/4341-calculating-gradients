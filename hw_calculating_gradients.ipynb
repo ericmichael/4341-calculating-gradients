{
 "cells": [
  {
   "cell_type": "markdown",
   "id": "9c426ecd",
   "metadata": {},
   "source": [
    "# HW: Calculating Gradients\n",
    "* **Created by:** Eric Martinez\n",
    "* **For:** CSCI 4341 - Special Topics in CS\n",
    "* **At:** University of Texas Rio-Grande Valley"
   ]
  },
  {
   "cell_type": "markdown",
   "id": "34711905",
   "metadata": {},
   "source": [
    "## Background"
   ]
  },
  {
   "cell_type": "code",
   "execution_count": 40,
   "id": "0e707ac2",
   "metadata": {},
   "outputs": [],
   "source": [
    "import torch\n",
    "import matplotlib.pyplot as plt"
   ]
  },
  {
   "cell_type": "markdown",
   "id": "43e5e871",
   "metadata": {},
   "source": [
    "Let's make a fake dataset"
   ]
  },
  {
   "cell_type": "code",
   "execution_count": 41,
   "id": "6e6a78eb",
   "metadata": {},
   "outputs": [],
   "source": [
    "import numpy as np\n",
    "from numpy.random import normal,seed,uniform\n",
    "np.random.seed(42)\n",
    "def noise(x, scale): return normal(scale=scale, size=x.shape)\n",
    "def add_noise(x, mult, add): return x * (1+noise(x,mult)) + noise(x,add)\n",
    "\n",
    "def make_fake_data(a=3, b=2, c=1):\n",
    "    x = torch.linspace(-2, 2, steps=20)[:,None] # evenly distribute x values\n",
    "    quad = a*x**2 + b*x + c # the real distribution use to generate data\n",
    "    y = add_noise(quad, 0.3, 1.5) # noisy y values\n",
    "    return x, y"
   ]
  },
  {
   "cell_type": "code",
   "execution_count": 42,
   "id": "1c35c863",
   "metadata": {},
   "outputs": [],
   "source": [
    "x, y = make_fake_data()"
   ]
  },
  {
   "cell_type": "markdown",
   "id": "48593c35",
   "metadata": {},
   "source": [
    "Let's visualize the data"
   ]
  },
  {
   "cell_type": "code",
   "execution_count": 43,
   "id": "4c8a6895",
   "metadata": {},
   "outputs": [
    {
     "data": {
      "image/png": "[encoded data removed]",
      "text/plain": [
       "<Figure size 640x480 with 1 Axes>"
      ]
     },
     "metadata": {},
     "output_type": "display_data"
    }
   ],
   "source": [
    "plt.scatter(x,y);"
   ]
  },
  {
   "cell_type": "markdown",
   "id": "b19a5068",
   "metadata": {},
   "source": [
    "We are trying to learn the parameters $a$, $b$, and $c$ to best fit a quadratic $ax^2 + bx + c$ to the data. \n",
    "\n",
    "The loss function that we are optimizing is,\n",
    "\n",
    "$$\\text{MSE}(\\hat{y}, y) = \\frac{\\sum_{i=0}^{N - 1} (\\hat{y}_i - y_i)^2}{N}$$\n",
    "\n",
    "Where $\\hat{y}$ is our predictions and $y$ is the actual values.\n",
    "\n",
    "Let's express this in Python."
   ]
  },
  {
   "cell_type": "code",
   "execution_count": 44,
   "id": "1bbf5275",
   "metadata": {},
   "outputs": [],
   "source": [
    "# tensor definition\n",
    "def mse(preds, acts): \n",
    "    return ((preds-acts)**2).mean()"
   ]
  },
  {
   "cell_type": "markdown",
   "id": "895eff84",
   "metadata": {},
   "source": [
    "In the lecture we derived the gradient with respect to parameter $a$.\n",
    "\n",
    "$$\n",
    "\\begin{equation}\n",
    " \\frac{d\\textit{MSE}}{da}=\\frac{1}{N}\\sum_{i=0}^{N - 1}2(a{x_i}^2 + b{x_i} + c - y_i) * {x_i}^2\n",
    "\\end{equation}\n",
    "$$"
   ]
  },
  {
   "cell_type": "markdown",
   "id": "17c6860e",
   "metadata": {},
   "source": [
    "We can turn that into Python code as follows:"
   ]
  },
  {
   "cell_type": "code",
   "execution_count": 45,
   "id": "90ee0fc6",
   "metadata": {},
   "outputs": [],
   "source": [
    "def gradient_a(x, y, b, c):\n",
    "    grad_a = (2 * (a * torch.pow(x, 2) + b * x + c - y)) * torch.pow(x, 2)\n",
    "    grad_a = grad_a.mean() # This is equivalent to 1/N sum from i=0 to N-1\n",
    "    return grad_a"
   ]
  },
  {
   "cell_type": "markdown",
   "id": "16d928d7",
   "metadata": {},
   "source": [
    "We can try this out:"
   ]
  },
  {
   "cell_type": "code",
   "execution_count": 46,
   "id": "d3095f1b",
   "metadata": {},
   "outputs": [
    {
     "name": "stdout",
     "output_type": "stream",
     "text": [
      "tensor(-8.8483, dtype=torch.float64)\n"
     ]
    }
   ],
   "source": [
    "# setting starting values\n",
    "a = 1.1\n",
    "b = 2.1\n",
    "c = 1.3\n",
    "\n",
    "a_grad = gradient_a(x, y, b, c)\n",
    "\n",
    "print(a_grad)"
   ]
  },
  {
   "cell_type": "markdown",
   "id": "2e6526d7",
   "metadata": {},
   "source": [
    "## Problem 1\n",
    "\n",
    "For this problem, derive the gradient with respect to parameter $b$."
   ]
  },
  {
   "cell_type": "markdown",
   "id": "3709091b",
   "metadata": {},
   "source": [
    "$$\n",
    "\\begin{equation}\n",
    " \\frac{d\\textit{MSE}}{db}= \\textit{??}\n",
    "\\end{equation}\n",
    "$$"
   ]
  },
  {
   "cell_type": "markdown",
   "id": "645a4120",
   "metadata": {},
   "source": [
    "_Fill in the above LaTeX formula with the correct formula for the derivative with respect to $b$._"
   ]
  },
  {
   "cell_type": "markdown",
   "id": "580d45b6",
   "metadata": {},
   "source": [
    "## Problem 2\n",
    "\n",
    "Consider the previous problem, derive the gradient with respect to parameter $c$."
   ]
  },
  {
   "cell_type": "markdown",
   "id": "3871116a",
   "metadata": {},
   "source": [
    "$$\n",
    "\\begin{equation}\n",
    " \\frac{d\\textit{MSE}}{dc}= \\textit{??}\n",
    "\\end{equation}\n",
    "$$"
   ]
  },
  {
   "cell_type": "markdown",
   "id": "e8f20ee9",
   "metadata": {},
   "source": [
    "_Fill in the above LaTeX formula with the correct formula for the derivative with respect to $b$._"
   ]
  },
  {
   "cell_type": "markdown",
   "id": "4c054cc2",
   "metadata": {},
   "source": [
    "## Problem 3"
   ]
  },
  {
   "cell_type": "markdown",
   "id": "c480e968",
   "metadata": {},
   "source": [
    "#### Part A"
   ]
  },
  {
   "cell_type": "markdown",
   "id": "a6cf6d1e",
   "metadata": {},
   "source": [
    "Write PyTorch code that calculates the gradient with respect to parameter $b$."
   ]
  },
  {
   "cell_type": "code",
   "execution_count": 10,
   "id": "13d373e7",
   "metadata": {},
   "outputs": [],
   "source": [
    "def gradient_b(x, y, a, c):\n",
    "    # todo\n",
    "    return grad_b"
   ]
  },
  {
   "cell_type": "markdown",
   "id": "cc19cd6d",
   "metadata": {},
   "source": [
    "Test it out"
   ]
  },
  {
   "cell_type": "code",
   "execution_count": 37,
   "id": "a00608bf",
   "metadata": {},
   "outputs": [
    {
     "name": "stdout",
     "output_type": "stream",
     "text": [
      "tensor(4.6156, dtype=torch.float64)\n"
     ]
    }
   ],
   "source": [
    "# setting starting values\n",
    "a = 1.1\n",
    "b = 2.1\n",
    "c = 1.3\n",
    "\n",
    "b_grad = gradient_b(x, y, a, c)\n",
    "\n",
    "print(b_grad)"
   ]
  },
  {
   "cell_type": "markdown",
   "id": "4ef4985c",
   "metadata": {},
   "source": [
    "#### Part B"
   ]
  },
  {
   "cell_type": "markdown",
   "id": "1d8155a0",
   "metadata": {},
   "source": [
    "Write PyTorch code that calculates the gradient with respect to parameter $c$."
   ]
  },
  {
   "cell_type": "code",
   "execution_count": 12,
   "id": "99e2c049",
   "metadata": {},
   "outputs": [],
   "source": [
    "def gradient_c(x, y, a, b):\n",
    "    # todo\n",
    "    return grad_c"
   ]
  },
  {
   "cell_type": "markdown",
   "id": "f25c73db",
   "metadata": {},
   "source": [
    "Test it out"
   ]
  },
  {
   "cell_type": "code",
   "execution_count": 13,
   "id": "349d1f56",
   "metadata": {},
   "outputs": [
    {
     "name": "stdout",
     "output_type": "stream",
     "text": [
      "tensor(-2.6798, dtype=torch.float64)\n"
     ]
    }
   ],
   "source": [
    "# setting starting values\n",
    "a = 1.1\n",
    "b = 2.1\n",
    "c = 1.3\n",
    "\n",
    "c_grad = gradient_c(x, y, a, b)\n",
    "\n",
    "print(c_grad)"
   ]
  },
  {
   "cell_type": "markdown",
   "id": "685506ba",
   "metadata": {},
   "source": [
    "_Attach your work to a document and submit to Blackboard._"
   ]
  },
  {
   "cell_type": "markdown",
   "id": "b6f57c63",
   "metadata": {},
   "source": [
    "## Problem 4"
   ]
  },
  {
   "cell_type": "markdown",
   "id": "6365280a",
   "metadata": {},
   "source": [
    "Below is a basic PyTorch \"training loop\". If you properly define the gradient functions, you should be able to get this to work and properly train the model with gradient descent!"
   ]
  },
  {
   "cell_type": "markdown",
   "id": "b4d9e2bd",
   "metadata": {},
   "source": [
    "Your loss should converge to somewhere around 2.2-2.4\n",
    "\n",
    "`lr`, or learning rate, is used to scale the amount that we adjust each parameter in response to the gradient.\n",
    "\n",
    "Too small a step size, it may take many iterations, `max_steps`, before converging on a good solution.\n",
    "\n",
    "Find values of `lr` and `max_steps` such that you get a loss below 2.4"
   ]
  },
  {
   "cell_type": "code",
   "execution_count": 39,
   "id": "3bd62018",
   "metadata": {},
   "outputs": [
    {
     "name": "stdout",
     "output_type": "stream",
     "text": [
      "step=0; loss=11.25; a=1.98, b=1.64, c=1.57\n",
      "step=1; loss=4.71; a=2.10, b=1.31, c=1.52\n",
      "step=2; loss=3.68; a=2.14, b=1.08, c=1.45\n",
      "step=3; loss=3.17; a=2.17, b=0.92, c=1.38\n",
      "step=4; loss=2.89; a=2.20, b=0.81, c=1.32\n",
      "step=5; loss=2.74; a=2.22, b=0.73, c=1.26\n",
      "step=6; loss=2.64; a=2.24, b=0.67, c=1.20\n",
      "step=7; loss=2.58; a=2.27, b=0.63, c=1.15\n",
      "step=8; loss=2.54; a=2.29, b=0.60, c=1.11\n",
      "step=9; loss=2.51; a=2.30, b=0.58, c=1.06\n",
      "\n",
      "Sorry, try again.\n"
     ]
    }
   ],
   "source": [
    "lr = 0.1 # learning rate (hyper-parameter)\n",
    "max_steps = 10 # maximum number of iterations in training loop (hyper-parameter)\n",
    "\n",
    "# setting starting values for parameters\n",
    "a = 1.1\n",
    "b = 2.1\n",
    "c = 1.3\n",
    "\n",
    "for i in range(max_steps):\n",
    "    # forward pass: fit a quadratic with current parameters and get predictions\n",
    "    predictions = a*x**2 + b*x + c \n",
    "    \n",
    "    # compute mse loss by comparing to actuals\n",
    "    loss = mse(predictions, y)\n",
    "    \n",
    "    # compute the gradient for each parameter\n",
    "    a_grad = gradient_a(x, y, b, c)\n",
    "    b_grad = gradient_b(x, y, a, c)\n",
    "    c_grad = gradient_c(x, y, a, b)\n",
    "\n",
    "    # update each parameter in the opposite direction of the gradient\n",
    "    a -= a_grad * lr\n",
    "    b -= b_grad * lr\n",
    "    c -= c_grad * lr\n",
    "    \n",
    "    print(f'step={i}; loss={loss:.2f}; a={a:.2f}, b={b:.2f}, c={c:.2f}')\n",
    "\n",
    "    \n",
    "if loss < 2.4:\n",
    "    print(\"\\nYay! You did it!\")\n",
    "else:\n",
    "    print(\"\\nSorry, try again.\")"
   ]
  }
 ],
 "metadata": {
  "kernelspec": {
   "display_name": "Python 3 (ipykernel)",
   "language": "python",
   "name": "python3"
  },
  "language_info": {
   "codemirror_mode": {
    "name": "ipython",
    "version": 3
   },
   "file_extension": ".py",
   "mimetype": "text/x-python",
   "name": "python",
   "nbconvert_exporter": "python",
   "pygments_lexer": "ipython3",
   "version": "3.9.6"
  }
 },
 "nbformat": 4,
 "nbformat_minor": 5
}
